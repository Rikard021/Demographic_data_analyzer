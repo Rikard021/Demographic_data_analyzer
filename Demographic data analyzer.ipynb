{
 "cells": [
  {
   "cell_type": "code",
   "execution_count": 1,
   "id": "8934d368",
   "metadata": {},
   "outputs": [],
   "source": [
    "import pandas as pd"
   ]
  },
  {
   "cell_type": "code",
   "execution_count": 5,
   "id": "22da77a7",
   "metadata": {},
   "outputs": [
    {
     "data": {
      "text/html": [
       "<div>\n",
       "<style scoped>\n",
       "    .dataframe tbody tr th:only-of-type {\n",
       "        vertical-align: middle;\n",
       "    }\n",
       "\n",
       "    .dataframe tbody tr th {\n",
       "        vertical-align: top;\n",
       "    }\n",
       "\n",
       "    .dataframe thead th {\n",
       "        text-align: right;\n",
       "    }\n",
       "</style>\n",
       "<table border=\"1\" class=\"dataframe\">\n",
       "  <thead>\n",
       "    <tr style=\"text-align: right;\">\n",
       "      <th></th>\n",
       "      <th>age</th>\n",
       "      <th>workclass</th>\n",
       "      <th>fnlwgt</th>\n",
       "      <th>education</th>\n",
       "      <th>education-num</th>\n",
       "      <th>marital-status</th>\n",
       "      <th>occupation</th>\n",
       "      <th>relationship</th>\n",
       "      <th>race</th>\n",
       "      <th>sex</th>\n",
       "      <th>capital-gain</th>\n",
       "      <th>capital-loss</th>\n",
       "      <th>hours-per-week</th>\n",
       "      <th>native-country</th>\n",
       "      <th>salary</th>\n",
       "    </tr>\n",
       "  </thead>\n",
       "  <tbody>\n",
       "    <tr>\n",
       "      <th>0</th>\n",
       "      <td>39</td>\n",
       "      <td>State-gov</td>\n",
       "      <td>77516</td>\n",
       "      <td>Bachelors</td>\n",
       "      <td>13</td>\n",
       "      <td>Never-married</td>\n",
       "      <td>Adm-clerical</td>\n",
       "      <td>Not-in-family</td>\n",
       "      <td>White</td>\n",
       "      <td>Male</td>\n",
       "      <td>2174</td>\n",
       "      <td>0</td>\n",
       "      <td>40</td>\n",
       "      <td>United-States</td>\n",
       "      <td>&lt;=50K</td>\n",
       "    </tr>\n",
       "    <tr>\n",
       "      <th>1</th>\n",
       "      <td>50</td>\n",
       "      <td>Self-emp-not-inc</td>\n",
       "      <td>83311</td>\n",
       "      <td>Bachelors</td>\n",
       "      <td>13</td>\n",
       "      <td>Married-civ-spouse</td>\n",
       "      <td>Exec-managerial</td>\n",
       "      <td>Husband</td>\n",
       "      <td>White</td>\n",
       "      <td>Male</td>\n",
       "      <td>0</td>\n",
       "      <td>0</td>\n",
       "      <td>13</td>\n",
       "      <td>United-States</td>\n",
       "      <td>&lt;=50K</td>\n",
       "    </tr>\n",
       "    <tr>\n",
       "      <th>2</th>\n",
       "      <td>38</td>\n",
       "      <td>Private</td>\n",
       "      <td>215646</td>\n",
       "      <td>HS-grad</td>\n",
       "      <td>9</td>\n",
       "      <td>Divorced</td>\n",
       "      <td>Handlers-cleaners</td>\n",
       "      <td>Not-in-family</td>\n",
       "      <td>White</td>\n",
       "      <td>Male</td>\n",
       "      <td>0</td>\n",
       "      <td>0</td>\n",
       "      <td>40</td>\n",
       "      <td>United-States</td>\n",
       "      <td>&lt;=50K</td>\n",
       "    </tr>\n",
       "    <tr>\n",
       "      <th>3</th>\n",
       "      <td>53</td>\n",
       "      <td>Private</td>\n",
       "      <td>234721</td>\n",
       "      <td>11th</td>\n",
       "      <td>7</td>\n",
       "      <td>Married-civ-spouse</td>\n",
       "      <td>Handlers-cleaners</td>\n",
       "      <td>Husband</td>\n",
       "      <td>Black</td>\n",
       "      <td>Male</td>\n",
       "      <td>0</td>\n",
       "      <td>0</td>\n",
       "      <td>40</td>\n",
       "      <td>United-States</td>\n",
       "      <td>&lt;=50K</td>\n",
       "    </tr>\n",
       "    <tr>\n",
       "      <th>4</th>\n",
       "      <td>28</td>\n",
       "      <td>Private</td>\n",
       "      <td>338409</td>\n",
       "      <td>Bachelors</td>\n",
       "      <td>13</td>\n",
       "      <td>Married-civ-spouse</td>\n",
       "      <td>Prof-specialty</td>\n",
       "      <td>Wife</td>\n",
       "      <td>Black</td>\n",
       "      <td>Female</td>\n",
       "      <td>0</td>\n",
       "      <td>0</td>\n",
       "      <td>40</td>\n",
       "      <td>Cuba</td>\n",
       "      <td>&lt;=50K</td>\n",
       "    </tr>\n",
       "  </tbody>\n",
       "</table>\n",
       "</div>"
      ],
      "text/plain": [
       "   age         workclass  fnlwgt  education  education-num  \\\n",
       "0   39         State-gov   77516  Bachelors             13   \n",
       "1   50  Self-emp-not-inc   83311  Bachelors             13   \n",
       "2   38           Private  215646    HS-grad              9   \n",
       "3   53           Private  234721       11th              7   \n",
       "4   28           Private  338409  Bachelors             13   \n",
       "\n",
       "       marital-status         occupation   relationship   race     sex  \\\n",
       "0       Never-married       Adm-clerical  Not-in-family  White    Male   \n",
       "1  Married-civ-spouse    Exec-managerial        Husband  White    Male   \n",
       "2            Divorced  Handlers-cleaners  Not-in-family  White    Male   \n",
       "3  Married-civ-spouse  Handlers-cleaners        Husband  Black    Male   \n",
       "4  Married-civ-spouse     Prof-specialty           Wife  Black  Female   \n",
       "\n",
       "   capital-gain  capital-loss  hours-per-week native-country salary  \n",
       "0          2174             0              40  United-States  <=50K  \n",
       "1             0             0              13  United-States  <=50K  \n",
       "2             0             0              40  United-States  <=50K  \n",
       "3             0             0              40  United-States  <=50K  \n",
       "4             0             0              40           Cuba  <=50K  "
      ]
     },
     "execution_count": 5,
     "metadata": {},
     "output_type": "execute_result"
    }
   ],
   "source": [
    "df = pd.read_csv(\"C:/Users/R Zal/Desktop/Data analysis/Repository/Demographic data analyzer/adult.data.csv\")\n",
    "df.head()"
   ]
  },
  {
   "cell_type": "code",
   "execution_count": 6,
   "id": "449d5189",
   "metadata": {},
   "outputs": [
    {
     "name": "stdout",
     "output_type": "stream",
     "text": [
      "Number of each race:\n",
      " White                 27816\n",
      "Black                  3124\n",
      "Asian-Pac-Islander     1039\n",
      "Amer-Indian-Eskimo      311\n",
      "Other                   271\n",
      "Name: race, dtype: int64\n"
     ]
    }
   ],
   "source": [
    "# How many of each race are represented in this dataset? This should be a Pandas series with race names as the index labels.\n",
    "race_count = df['race'].value_counts()\n",
    "print(\"Number of each race:\\n\", race_count)"
   ]
  },
  {
   "cell_type": "code",
   "execution_count": 7,
   "id": "33a82b0c",
   "metadata": {},
   "outputs": [
    {
     "name": "stdout",
     "output_type": "stream",
     "text": [
      "Average age of men: 39.4\n"
     ]
    }
   ],
   "source": [
    "# What is the average age of men?\n",
    "average_age_men = round(df[df['sex'] == 'Male']['age'].mean(), 1)\n",
    "print(\"Average age of men:\", average_age_men)"
   ]
  },
  {
   "cell_type": "code",
   "execution_count": 8,
   "id": "54f0cb29",
   "metadata": {},
   "outputs": [
    {
     "name": "stdout",
     "output_type": "stream",
     "text": [
      "Percentage with Bachelors degrees: 16.4%\n"
     ]
    }
   ],
   "source": [
    "# What is the percentage of people who have a Bachelor's degree?\n",
    "num_bachelors = len(df[df['education'] == 'Bachelors'])\n",
    "total_num = len(df)\n",
    "percentage_bachelors = round(num_bachelors / total_num * 100, 1)\n",
    "print(f\"Percentage with Bachelors degrees: {percentage_bachelors}%\")"
   ]
  },
  {
   "cell_type": "code",
   "execution_count": 9,
   "id": "7c7730bb",
   "metadata": {},
   "outputs": [
    {
     "name": "stdout",
     "output_type": "stream",
     "text": [
      "Percentage of people with advanced education earning more than 50K: 46.54\n",
      "Percentage of people without advanced education earning more than 50K: 17.37\n"
     ]
    }
   ],
   "source": [
    "# Suponiendo que 'df' es tu DataFrame con los datos\n",
    "# Filtrar las filas con educación avanzada (Bachelors, Masters o Doctorate)\n",
    "higher_education = df[df['education'].isin(['Bachelors', 'Masters', 'Doctorate'])]\n",
    "\n",
    "# Filtrar las filas sin educación avanzada\n",
    "lower_education = df[~df['education'].isin(['Bachelors', 'Masters', 'Doctorate'])]\n",
    "\n",
    "# Calcular el porcentaje de personas con educación avanzada que ganan más de 50K\n",
    "percentage_higher_education = (higher_education[higher_education['salary'] == '>50K'].shape[0] / higher_education.shape[0]) * 100\n",
    "\n",
    "# Calcular el porcentaje de personas sin educación avanzada que ganan más de 50K\n",
    "percentage_lower_education = (lower_education[lower_education['salary'] == '>50K'].shape[0] / lower_education.shape[0]) * 100\n",
    "\n",
    "print(\"Percentage of people with advanced education earning more than 50K:\", round(percentage_higher_education, 2))\n",
    "print(\"Percentage of people without advanced education earning more than 50K:\", round(percentage_lower_education, 2))"
   ]
  },
  {
   "cell_type": "code",
   "execution_count": 10,
   "id": "26cd42ae",
   "metadata": {},
   "outputs": [
    {
     "name": "stdout",
     "output_type": "stream",
     "text": [
      "Min work time: 40.44 hours/week\n"
     ]
    }
   ],
   "source": [
    "# What is the minimum number of hours a person works per week (hours-per-week feature)?\n",
    "min_work_hours = round(df['hours-per-week'].mean(),2)\n",
    "print(f\"Min work time: {min_work_hours} hours/week\")"
   ]
  },
  {
   "cell_type": "code",
   "execution_count": 11,
   "id": "dd10fc04",
   "metadata": {},
   "outputs": [
    {
     "name": "stdout",
     "output_type": "stream",
     "text": [
      "Percentage of rich among those who work fewest hours: 10.0%\n"
     ]
    }
   ],
   "source": [
    "# Suponiendo que 'df' es tu DataFrame con los datos\n",
    "# Identificar el número mínimo de horas trabajadas por semana\n",
    "min_work_hours = df['hours-per-week'].min()\n",
    "\n",
    "# Filtrar las personas que trabajan el número mínimo de horas por semana\n",
    "num_min_workers = df[df['hours-per-week'] == min_work_hours]\n",
    "\n",
    "# Verificar si hay personas en el grupo 'num_min_workers'\n",
    "if len(num_min_workers) > 0:\n",
    "    # Calcular el porcentaje de personas con salario >50K entre aquellos que trabajan el mínimo de horas\n",
    "    rich_percentage = round(len(num_min_workers[num_min_workers['salary'] == '>50K']) / len(num_min_workers) * 100, 1)\n",
    "    print(f\"Percentage of rich among those who work fewest hours: {rich_percentage}%\")\n",
    "else:\n",
    "    print(\"No one works the minimum number of hours per week.\")"
   ]
  },
  {
   "cell_type": "code",
   "execution_count": 12,
   "id": "c96a14ce",
   "metadata": {},
   "outputs": [
    {
     "name": "stdout",
     "output_type": "stream",
     "text": [
      "Country with highest percentage of rich: Iran\n"
     ]
    }
   ],
   "source": [
    "# What country has the highest percentage of people that earn >50K?\n",
    "country_count = df['native-country'].value_counts()\n",
    "country_rich_count = df[df['salary'] == '>50K']['native-country'].value_counts()\n",
    "  \n",
    "highest_earning_country = (country_rich_count / country_count *100).idxmax()\n",
    "highest_earning_country_percentage = round((country_rich_count / country_count *100).max(),1)\n",
    "print(\"Country with highest percentage of rich:\", highest_earning_country)"
   ]
  },
  {
   "cell_type": "code",
   "execution_count": 13,
   "id": "1633d2cd",
   "metadata": {},
   "outputs": [
    {
     "name": "stdout",
     "output_type": "stream",
     "text": [
      "Highest percentage of rich people in country: 41.9%\n"
     ]
    }
   ],
   "source": [
    "# What country has the highest percentage of people that earn >50K?\n",
    "country_count = df['native-country'].value_counts()\n",
    "country_rich_count = df[df['salary'] == '>50K']['native-country'].value_counts()\n",
    "  \n",
    "highest_earning_country = (country_rich_count / country_count *100).idxmax()\n",
    "highest_earning_country_percentage = round((country_rich_count / country_count *100).max(),1)\n",
    "print(f\"Highest percentage of rich people in country: {highest_earning_country_percentage}%\")"
   ]
  },
  {
   "cell_type": "code",
   "execution_count": 14,
   "id": "f6dacd87",
   "metadata": {},
   "outputs": [
    {
     "name": "stdout",
     "output_type": "stream",
     "text": [
      "Top occupations in India: Prof-specialty\n"
     ]
    }
   ],
   "source": [
    "# Identify the most popular occupation for those who earn >50K in India.\n",
    "people_of_india = df[(df['native-country'] == 'India') & (df['salary'] == '>50K')]\n",
    "ocupation_counts = people_of_india['occupation'].value_counts()\n",
    "top_IN_occupation = ocupation_counts.idxmax()\n",
    "print(\"Top occupations in India:\", top_IN_occupation)"
   ]
  }
 ],
 "metadata": {
  "kernelspec": {
   "display_name": "Python 3",
   "language": "python",
   "name": "python3"
  },
  "language_info": {
   "codemirror_mode": {
    "name": "ipython",
    "version": 3
   },
   "file_extension": ".py",
   "mimetype": "text/x-python",
   "name": "python",
   "nbconvert_exporter": "python",
   "pygments_lexer": "ipython3",
   "version": "3.8.8"
  }
 },
 "nbformat": 4,
 "nbformat_minor": 5
}
